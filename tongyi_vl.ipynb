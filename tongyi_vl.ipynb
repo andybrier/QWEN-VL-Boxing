{
 "cells": [
  {
   "cell_type": "code",
   "execution_count": 10,
   "id": "1fc89ca0-45b9-43e8-9861-b10792ea54a4",
   "metadata": {
    "scrolled": true
   },
   "outputs": [
    {
     "name": "stdout",
     "output_type": "stream",
     "text": [
      "{\"status_code\": 200, \"request_id\": \"7b31fadd-340b-9bdd-92d0-276435d95b79\", \"code\": \"\", \"message\": \"\", \"output\": {\"text\": null, \"finish_reason\": null, \"choices\": [{\"finish_reason\": \"stop\", \"message\": {\"role\": \"assistant\", \"content\": [{\"box\": \"<ref> White cat</ref><box>(4,156),(378,997)</box>\"}]}}]}, \"usage\": {\"input_tokens\": 1306, \"output_tokens\": 22, \"image_tokens\": 1240}}\n"
     ]
    }
   ],
   "source": [
    "# 业务空间模型调用请参考文档传入workspace信息: https://help.aliyun.com/document_detail/2746874.html    \n",
    "import os\n",
    "from dashscope import MultiModalConversation\n",
    "from http import HTTPStatus\n",
    " \n",
    "import dashscope\n",
    "\n",
    "\n",
    "\n",
    "\n",
    "def simple_multimodal_conversation_call():\n",
    "    dashscope.api_key = 'sk-xxxxx'\n",
    " \n",
    "\n",
    "    \"\"\"Simple single round multimodal conversation call.\n",
    "    \"\"\"\n",
    "    messages = [\n",
    "        {\n",
    "            \"role\": \"user\",\n",
    "            \"content\": [\n",
    "                {\"image\": \"/Users/chunhua/Documents/pic/cat.jpeg\"},\n",
    "                {\"text\": \"Please identify and mark the location of the white cat in the image by outlining its position with a rectangle, using the pixel coordinates of the rectangle's corners. Exclude any details regarding the blurred face.\"}\n",
    "            ]\n",
    "        }\n",
    "    ]\n",
    "    responses = MultiModalConversation.call(model='qwen-vl-max',\n",
    "                                           messages=messages,\n",
    "                                           stream=True)\n",
    "    #tokenizer.draw_bbox_on_latest_picture(response, history)\n",
    "    for response in responses:\n",
    "        print(response)\n",
    "\n",
    "\n",
    "if __name__ == '__main__':\n",
    "    simple_multimodal_conversation_call()"
   ]
  },
  {
   "cell_type": "code",
   "execution_count": null,
   "id": "bba3c9fe-cff5-44a5-a451-9a5ad3bc235b",
   "metadata": {},
   "outputs": [],
   "source": []
  },
  {
   "cell_type": "code",
   "execution_count": null,
   "id": "add44958-0230-4ae7-8dff-3ccab22bb1cf",
   "metadata": {},
   "outputs": [],
   "source": []
  }
 ],
 "metadata": {
  "kernelspec": {
   "display_name": "Python 3 (ipykernel)",
   "language": "python",
   "name": "python3"
  },
  "language_info": {
   "codemirror_mode": {
    "name": "ipython",
    "version": 3
   },
   "file_extension": ".py",
   "mimetype": "text/x-python",
   "name": "python",
   "nbconvert_exporter": "python",
   "pygments_lexer": "ipython3",
   "version": "3.12.2"
  }
 },
 "nbformat": 4,
 "nbformat_minor": 5
}
